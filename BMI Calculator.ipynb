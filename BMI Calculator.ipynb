{
 "cells": [
  {
   "cell_type": "markdown",
   "id": "934779fe-2516-43a3-b3d3-bcff477295f1",
   "metadata": {},
   "source": [
    "# BMI Calculator"
   ]
  },
  {
   "cell_type": "markdown",
   "id": "b6a686f0-4a20-409a-8780-03b796203359",
   "metadata": {},
   "source": [
    "# https://www.calculator.net/bmi-calculator.html?cage=24&csex=m&cheightfeet=5&cheightinch=6&cpound=260&cheightmeter=180&ckg=65&printit=0&ctype=standard&x=Calculate"
   ]
  },
  {
   "cell_type": "code",
   "execution_count": 20,
   "id": "08cac11b-fcee-4fc1-a197-e619e975cbe9",
   "metadata": {},
   "outputs": [],
   "source": [
    "import tkinter as tk\n",
    "from tkinter import messagebox\n",
    "\n",
    "def calculate_bmi():\n",
    "    try:\n",
    "        weight = float(entry_weight.get())\n",
    "        height = float(entry_height.get())\n",
    "        bmi = (weight * 703) / (height ** 2)\n",
    "        bmi = round(bmi, 2)\n",
    "        \n",
    "        if bmi > 0:\n",
    "            if bmi < 18.5:\n",
    "                result = f\"{name.get()}, you are underweight.\"\n",
    "                tips = \"Consider a balanced diet rich in nutrients. Consult a healthcare provider for advice.\"\n",
    "            elif bmi <= 24.9:\n",
    "                result = f\"{name.get()}, you are normal weight.\"\n",
    "                tips = \"Maintain your current lifestyle. Continue eating a balanced diet and exercising regularly.\"\n",
    "            elif bmi < 29.9:\n",
    "                result = f\"{name.get()}, you are overweight.\"\n",
    "                tips = \"Incorporate more physical activities into your routine and consider a healthy diet plan.\"\n",
    "            elif bmi < 34.9:\n",
    "                result = f\"{name.get()}, you are obese.\"\n",
    "                tips = \"Seek guidance from a healthcare provider. Focus on a balanced diet and regular exercise.\"\n",
    "            elif bmi < 39.9:\n",
    "                result = f\"{name.get()}, you are severely obese.\"\n",
    "                tips = \"Consult a healthcare provider for a personalized weight loss plan. Regular physical activity is crucial.\"\n",
    "            else:\n",
    "                result = f\"{name.get()}, you are morbidly obese.\"\n",
    "                tips = \"Immediate medical intervention is advised. Work closely with a healthcare provider to manage your health.\"\n",
    "        else:\n",
    "            result = \"Enter valid input\"\n",
    "            tips = \"\"\n",
    "        \n",
    "        messagebox.showinfo(\"BMI Result\", f\"Your BMI is {bmi}\\n{result}\\nHealth Tips: {tips}\")\n",
    "    \n",
    "    except ValueError:\n",
    "        messagebox.showerror(\"Input Error\", \"Please enter valid numbers for weight and height.\")\n",
    "\n",
    "def clear_fields():\n",
    "    name.delete(0, tk.END)\n",
    "    entry_weight.delete(0, tk.END)\n",
    "    entry_height.delete(0, tk.END)\n",
    "\n",
    "# Create the main window\n",
    "root = tk.Tk()\n",
    "root.title(\"BMI Calculator\")\n",
    "\n",
    "# Create and place the input fields and labels\n",
    "tk.Label(root, text=\"Enter your name:\").grid(row=0, column=0, padx=10, pady=5)\n",
    "name = tk.Entry(root)\n",
    "name.grid(row=0, column=1, padx=10, pady=5)\n",
    "\n",
    "tk.Label(root, text=\"Enter your weight in pounds:\").grid(row=1, column=0, padx=10, pady=5)\n",
    "entry_weight = tk.Entry(root)\n",
    "entry_weight.grid(row=1, column=1, padx=10, pady=5)\n",
    "\n",
    "tk.Label(root, text=\"Enter your height in inches:\").grid(row=2, column=0, padx=10, pady=5)\n",
    "entry_height = tk.Entry(root)\n",
    "entry_height.grid(row=2, column=1, padx=10, pady=5)\n",
    "\n",
    "# Create and place the buttons\n",
    "calculate_button = tk.Button(root, text=\"Calculate BMI\", command=calculate_bmi)\n",
    "calculate_button.grid(row=3, column=0, pady=10)\n",
    "\n",
    "clear_button = tk.Button(root, text=\"Clear\", command=clear_fields)\n",
    "clear_button.grid(row=3, column=1, pady=10)\n",
    "\n",
    "# Run the application\n",
    "root.mainloop()\n"
   ]
  },
  {
   "cell_type": "code",
   "execution_count": null,
   "id": "53880b1c-5b1c-40b9-8d69-d5829a8c1068",
   "metadata": {},
   "outputs": [],
   "source": []
  },
  {
   "cell_type": "code",
   "execution_count": 6,
   "id": "93af942d-a9e2-4129-b174-0f7b66ab18d2",
   "metadata": {},
   "outputs": [],
   "source": [
    "#BMI = (weight in pounds x 703) / (height in inches x height in inches)"
   ]
  },
  {
   "cell_type": "code",
   "execution_count": 18,
   "id": "16f2a009-d8d4-4df9-954c-15ae2c74f020",
   "metadata": {},
   "outputs": [],
   "source": [
    "# Under 18.5\tUnderweight\tMinimal\n",
    "# 18.5 - 24.9\tNormal Weight\tMinimal\n",
    "# 25 - 29.9\tOverweight\tIncreased\n",
    "# 30 - 34.9\tObese\tHigh\n",
    "# 35 - 39.9\tSeverely Obese\tVery High\n",
    "# 40 and over\tMorbidly Obese\tExtremely High"
   ]
  },
  {
   "cell_type": "code",
   "execution_count": null,
   "id": "c4a103d2-53e3-473b-8ab0-abf9e303a795",
   "metadata": {},
   "outputs": [],
   "source": []
  },
  {
   "cell_type": "code",
   "execution_count": null,
   "id": "7b951267-cf67-4fd2-a626-5314392c4735",
   "metadata": {},
   "outputs": [],
   "source": []
  },
  {
   "cell_type": "code",
   "execution_count": null,
   "id": "a7829412-a95b-400d-b9b1-db78a231b272",
   "metadata": {},
   "outputs": [],
   "source": []
  },
  {
   "cell_type": "code",
   "execution_count": null,
   "id": "0adec665-4387-4070-8aab-19e15f218085",
   "metadata": {},
   "outputs": [],
   "source": []
  },
  {
   "cell_type": "code",
   "execution_count": null,
   "id": "09611671-fbd3-43aa-acbf-2b5070741f0f",
   "metadata": {},
   "outputs": [],
   "source": []
  },
  {
   "cell_type": "code",
   "execution_count": null,
   "id": "d936abb5-e517-4d36-a1c6-34eb8649ac6b",
   "metadata": {},
   "outputs": [],
   "source": []
  },
  {
   "cell_type": "code",
   "execution_count": null,
   "id": "679ce9e4-58b8-4626-b6e6-6bae510df52e",
   "metadata": {},
   "outputs": [],
   "source": []
  },
  {
   "cell_type": "code",
   "execution_count": null,
   "id": "46517fee-89a3-4f3a-b71f-1f84d62dd67a",
   "metadata": {},
   "outputs": [],
   "source": []
  },
  {
   "cell_type": "code",
   "execution_count": null,
   "id": "d71909f2-3890-4932-8aa7-c74e2764a6cf",
   "metadata": {},
   "outputs": [],
   "source": []
  }
 ],
 "metadata": {
  "kernelspec": {
   "display_name": "Python 3 (ipykernel)",
   "language": "python",
   "name": "python3"
  },
  "language_info": {
   "codemirror_mode": {
    "name": "ipython",
    "version": 3
   },
   "file_extension": ".py",
   "mimetype": "text/x-python",
   "name": "python",
   "nbconvert_exporter": "python",
   "pygments_lexer": "ipython3",
   "version": "3.12.4"
  }
 },
 "nbformat": 4,
 "nbformat_minor": 5
}
